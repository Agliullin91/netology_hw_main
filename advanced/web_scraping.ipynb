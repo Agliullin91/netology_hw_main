{
 "cells": [
  {
   "cell_type": "code",
   "execution_count": 31,
   "metadata": {},
   "outputs": [],
   "source": [
    "import requests\n",
    "from bs4 import BeautifulSoup\n",
    "\n",
    "# определяем список ключевых слов\n",
    "KEYWORDS = ['дизайн', 'фото', 'web', 'python']\n",
    "\n",
    "response = requests.get('https://habr.com/ru/all/')\n",
    "response.raise_for_status()\n",
    "text = response.text\n",
    "soup = BeautifulSoup(text, features='html.parser')\n",
    "articles = soup.find_all('article')"
   ]
  },
  {
   "cell_type": "code",
   "execution_count": 32,
   "metadata": {},
   "outputs": [
    {
     "name": "stdout",
     "output_type": "stream",
     "text": [
      "дизайн\n",
      "сегодня в 17:00\n",
      "Вектор? Растр? А может — и то, и другое?\n",
      " https://habr.com//ru/company/ruvds/blog/578296/\n",
      "____________________________\n",
      "фото\n",
      "сегодня в 17:42\n",
      "Flutter: о разработке плагинов с интерфейсом ActivityAware\n",
      " https://habr.com//ru/post/579482/\n",
      "____________________________\n",
      "web\n",
      "сегодня в 14:31\n",
      "Как выбрать язык программирования для проекта\n",
      " https://habr.com//ru/company/timeweb/blog/580028/\n",
      "____________________________\n"
     ]
    }
   ],
   "source": [
    "for word in KEYWORDS:\n",
    "    for article in articles:\n",
    "        article_text = article.text\n",
    "        if word in article_text:\n",
    "            print(word)\n",
    "            time = article.find('time')\n",
    "            title = article.find('a', class_='tm-article-snippet__title-link')\n",
    "            print(time.text)\n",
    "            print(f\"{title.text}\\n https://habr.com/{title.attrs.get('href')}\")\n",
    "            print('____________________________')"
   ]
  },
  {
   "cell_type": "code",
   "execution_count": null,
   "metadata": {},
   "outputs": [],
   "source": []
  }
 ],
 "metadata": {
  "kernelspec": {
   "display_name": "Python 3",
   "language": "python",
   "name": "python3"
  },
  "language_info": {
   "codemirror_mode": {
    "name": "ipython",
    "version": 3
   },
   "file_extension": ".py",
   "mimetype": "text/x-python",
   "name": "python",
   "nbconvert_exporter": "python",
   "pygments_lexer": "ipython3",
   "version": "3.8.5"
  }
 },
 "nbformat": 4,
 "nbformat_minor": 4
}
