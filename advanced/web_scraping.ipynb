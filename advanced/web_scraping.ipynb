{
 "cells": [
  {
   "cell_type": "code",
   "execution_count": 63,
   "metadata": {},
   "outputs": [
    {
     "name": "stdout",
     "output_type": "stream",
     "text": [
      "сегодня в 21:30\n",
      "Руководство Google по стилю в C++. Часть 5\n",
      "https://habr.com/ru/post/580072/\n",
      "__________________________________________________\n",
      "сегодня в 18:29\n",
      "Почему экология не может быть плохой?\n",
      "https://habr.com/ru/post/580052/\n",
      "__________________________________________________\n",
      "сегодня в 17:42\n",
      "Flutter: о разработке плагинов с интерфейсом ActivityAware\n",
      "https://habr.com/ru/post/579482/\n",
      "__________________________________________________\n",
      "сегодня в 17:14\n",
      "Дайджест интересных материалов для мобильного разработчика #412 (20 — 26 сентября)\n",
      "https://habr.com/ru/company/productivity_inside/blog/580046/\n",
      "__________________________________________________\n",
      "сегодня в 17:00\n",
      "Вектор? Растр? А может — и то, и другое?\n",
      "https://habr.com/ru/company/ruvds/blog/578296/\n",
      "__________________________________________________\n",
      "сегодня в 14:31\n",
      "Как выбрать язык программирования для проекта\n",
      "https://habr.com/ru/company/timeweb/blog/580028/\n",
      "__________________________________________________\n",
      "сегодня в 13:05\n",
      "Источник опорного напряжения — один из принципов и одна из реализаций\n",
      "https://habr.com/ru/post/579980/\n",
      "__________________________________________________\n"
     ]
    }
   ],
   "source": [
    "import requests\n",
    "from bs4 import BeautifulSoup\n",
    "\n",
    "# определяем список ключевых слов\n",
    "KEYWORDS = ['дизайн', 'фото', 'web', 'python']\n",
    "\n",
    "response = requests.get('https://habr.com/ru/all/')\n",
    "response.raise_for_status()\n",
    "text = response.text\n",
    "soup = BeautifulSoup(text, features='html.parser')\n",
    "articles = soup.find_all('article')\n",
    "for article in articles:\n",
    "    title = article.find('a', class_='tm-article-snippet__title-link')\n",
    "    href = f\"https://habr.com{title.attrs.get('href')}\"\n",
    "    response = requests.get(href)\n",
    "    response.raise_for_status()\n",
    "    inner_text = response.text\n",
    "    soup = BeautifulSoup(inner_text, features='html.parser')\n",
    "    full_article = soup.find('article', class_='tm-page-article__content tm-page-article__content_inner')\n",
    "    full_article_text = full_article.text\n",
    "    for word in KEYWORDS:\n",
    "        if word in full_article_text:\n",
    "            time = full_article.find('time')\n",
    "            title = full_article.find('h1', class_='tm-article-snippet__title tm-article-snippet__title_h1')\n",
    "            print(time.text)\n",
    "            print(title.text)\n",
    "            print(href)\n",
    "            print('__________________________________________________')"
   ]
  },
  {
   "cell_type": "code",
   "execution_count": null,
   "metadata": {},
   "outputs": [],
   "source": []
  }
 ],
 "metadata": {
  "kernelspec": {
   "display_name": "Python 3",
   "language": "python",
   "name": "python3"
  },
  "language_info": {
   "codemirror_mode": {
    "name": "ipython",
    "version": 3
   },
   "file_extension": ".py",
   "mimetype": "text/x-python",
   "name": "python",
   "nbconvert_exporter": "python",
   "pygments_lexer": "ipython3",
   "version": "3.8.5"
  }
 },
 "nbformat": 4,
 "nbformat_minor": 4
}
